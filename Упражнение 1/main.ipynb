{
 "cells": [
  {
   "cell_type": "code",
   "execution_count": 36,
   "id": "a6e83423",
   "metadata": {
    "scrolled": true
   },
   "outputs": [],
   "source": [
    "import pandas as pd\n",
    "from sklearn.preprocessing import MinMaxScaler"
   ]
  },
  {
   "cell_type": "code",
   "execution_count": 37,
   "id": "a89f7feb",
   "metadata": {},
   "outputs": [
    {
     "data": {
      "text/html": [
       "<div>\n",
       "<style scoped>\n",
       "    .dataframe tbody tr th:only-of-type {\n",
       "        vertical-align: middle;\n",
       "    }\n",
       "\n",
       "    .dataframe tbody tr th {\n",
       "        vertical-align: top;\n",
       "    }\n",
       "\n",
       "    .dataframe thead th {\n",
       "        text-align: right;\n",
       "    }\n",
       "</style>\n",
       "<table border=\"1\" class=\"dataframe\">\n",
       "  <thead>\n",
       "    <tr style=\"text-align: right;\">\n",
       "      <th></th>\n",
       "      <th>MIP</th>\n",
       "      <th>STDIP</th>\n",
       "      <th>EKIP</th>\n",
       "      <th>SIP</th>\n",
       "      <th>MC</th>\n",
       "      <th>STDC</th>\n",
       "      <th>EKC</th>\n",
       "      <th>SC</th>\n",
       "      <th>TARGET</th>\n",
       "    </tr>\n",
       "  </thead>\n",
       "  <tbody>\n",
       "    <tr>\n",
       "      <th>0</th>\n",
       "      <td>76.523438</td>\n",
       "      <td>34.087196</td>\n",
       "      <td>2.024270</td>\n",
       "      <td>8.131775</td>\n",
       "      <td>7.983278</td>\n",
       "      <td>36.657363</td>\n",
       "      <td>4.888890</td>\n",
       "      <td>23.675354</td>\n",
       "      <td>1</td>\n",
       "    </tr>\n",
       "    <tr>\n",
       "      <th>1</th>\n",
       "      <td>81.820312</td>\n",
       "      <td>35.392097</td>\n",
       "      <td>1.015847</td>\n",
       "      <td>3.733024</td>\n",
       "      <td>2.549331</td>\n",
       "      <td>21.182439</td>\n",
       "      <td>8.808881</td>\n",
       "      <td>79.950130</td>\n",
       "      <td>0</td>\n",
       "    </tr>\n",
       "    <tr>\n",
       "      <th>2</th>\n",
       "      <td>81.937500</td>\n",
       "      <td>35.631085</td>\n",
       "      <td>0.896465</td>\n",
       "      <td>3.331864</td>\n",
       "      <td>3.505017</td>\n",
       "      <td>18.930187</td>\n",
       "      <td>6.877126</td>\n",
       "      <td>57.212347</td>\n",
       "      <td>0</td>\n",
       "    </tr>\n",
       "    <tr>\n",
       "      <th>3</th>\n",
       "      <td>73.601562</td>\n",
       "      <td>37.389282</td>\n",
       "      <td>1.978300</td>\n",
       "      <td>7.076543</td>\n",
       "      <td>5.881271</td>\n",
       "      <td>30.217483</td>\n",
       "      <td>5.758598</td>\n",
       "      <td>33.909779</td>\n",
       "      <td>1</td>\n",
       "    </tr>\n",
       "    <tr>\n",
       "      <th>4</th>\n",
       "      <td>82.703125</td>\n",
       "      <td>38.007474</td>\n",
       "      <td>0.887824</td>\n",
       "      <td>2.544944</td>\n",
       "      <td>1.641304</td>\n",
       "      <td>13.158511</td>\n",
       "      <td>11.093668</td>\n",
       "      <td>155.044660</td>\n",
       "      <td>0</td>\n",
       "    </tr>\n",
       "  </tbody>\n",
       "</table>\n",
       "</div>"
      ],
      "text/plain": [
       "         MIP      STDIP      EKIP       SIP        MC       STDC        EKC  \\\n",
       "0  76.523438  34.087196  2.024270  8.131775  7.983278  36.657363   4.888890   \n",
       "1  81.820312  35.392097  1.015847  3.733024  2.549331  21.182439   8.808881   \n",
       "2  81.937500  35.631085  0.896465  3.331864  3.505017  18.930187   6.877126   \n",
       "3  73.601562  37.389282  1.978300  7.076543  5.881271  30.217483   5.758598   \n",
       "4  82.703125  38.007474  0.887824  2.544944  1.641304  13.158511  11.093668   \n",
       "\n",
       "           SC  TARGET  \n",
       "0   23.675354       1  \n",
       "1   79.950130       0  \n",
       "2   57.212347       0  \n",
       "3   33.909779       1  \n",
       "4  155.044660       0  "
      ]
     },
     "execution_count": 37,
     "metadata": {},
     "output_type": "execute_result"
    }
   ],
   "source": [
    "df = pd.read_csv(\"report.csv\")\n",
    "df.head()"
   ]
  },
  {
   "cell_type": "code",
   "execution_count": 38,
   "id": "0ddde1ef",
   "metadata": {
    "scrolled": true
   },
   "outputs": [
    {
     "data": {
      "text/plain": [
       "78.24110457920793"
      ]
     },
     "execution_count": 38,
     "metadata": {},
     "output_type": "execute_result"
    }
   ],
   "source": [
    "df[\"MIP\"].mean()"
   ]
  },
  {
   "cell_type": "code",
   "execution_count": 39,
   "id": "0c0eca92",
   "metadata": {},
   "outputs": [
    {
     "data": {
      "text/html": [
       "<div>\n",
       "<style scoped>\n",
       "    .dataframe tbody tr th:only-of-type {\n",
       "        vertical-align: middle;\n",
       "    }\n",
       "\n",
       "    .dataframe tbody tr th {\n",
       "        vertical-align: top;\n",
       "    }\n",
       "\n",
       "    .dataframe thead th {\n",
       "        text-align: right;\n",
       "    }\n",
       "</style>\n",
       "<table border=\"1\" class=\"dataframe\">\n",
       "  <thead>\n",
       "    <tr style=\"text-align: right;\">\n",
       "      <th></th>\n",
       "      <th>MIP</th>\n",
       "      <th>STDIP</th>\n",
       "      <th>EKIP</th>\n",
       "      <th>SIP</th>\n",
       "      <th>MC</th>\n",
       "      <th>STDC</th>\n",
       "      <th>EKC</th>\n",
       "      <th>SC</th>\n",
       "    </tr>\n",
       "  </thead>\n",
       "  <tbody>\n",
       "    <tr>\n",
       "      <th>0</th>\n",
       "      <td>76.523438</td>\n",
       "      <td>34.087196</td>\n",
       "      <td>2.024270</td>\n",
       "      <td>8.131775</td>\n",
       "      <td>7.983278</td>\n",
       "      <td>36.657363</td>\n",
       "      <td>4.888890</td>\n",
       "      <td>23.675354</td>\n",
       "    </tr>\n",
       "    <tr>\n",
       "      <th>1</th>\n",
       "      <td>81.820312</td>\n",
       "      <td>35.392097</td>\n",
       "      <td>1.015847</td>\n",
       "      <td>3.733024</td>\n",
       "      <td>2.549331</td>\n",
       "      <td>21.182439</td>\n",
       "      <td>8.808881</td>\n",
       "      <td>79.950130</td>\n",
       "    </tr>\n",
       "    <tr>\n",
       "      <th>2</th>\n",
       "      <td>81.937500</td>\n",
       "      <td>35.631085</td>\n",
       "      <td>0.896465</td>\n",
       "      <td>3.331864</td>\n",
       "      <td>3.505017</td>\n",
       "      <td>18.930187</td>\n",
       "      <td>6.877126</td>\n",
       "      <td>57.212347</td>\n",
       "    </tr>\n",
       "    <tr>\n",
       "      <th>3</th>\n",
       "      <td>73.601562</td>\n",
       "      <td>37.389282</td>\n",
       "      <td>1.978300</td>\n",
       "      <td>7.076543</td>\n",
       "      <td>5.881271</td>\n",
       "      <td>30.217483</td>\n",
       "      <td>5.758598</td>\n",
       "      <td>33.909779</td>\n",
       "    </tr>\n",
       "    <tr>\n",
       "      <th>4</th>\n",
       "      <td>82.703125</td>\n",
       "      <td>38.007474</td>\n",
       "      <td>0.887824</td>\n",
       "      <td>2.544944</td>\n",
       "      <td>1.641304</td>\n",
       "      <td>13.158511</td>\n",
       "      <td>11.093668</td>\n",
       "      <td>155.044660</td>\n",
       "    </tr>\n",
       "  </tbody>\n",
       "</table>\n",
       "</div>"
      ],
      "text/plain": [
       "         MIP      STDIP      EKIP       SIP        MC       STDC        EKC  \\\n",
       "0  76.523438  34.087196  2.024270  8.131775  7.983278  36.657363   4.888890   \n",
       "1  81.820312  35.392097  1.015847  3.733024  2.549331  21.182439   8.808881   \n",
       "2  81.937500  35.631085  0.896465  3.331864  3.505017  18.930187   6.877126   \n",
       "3  73.601562  37.389282  1.978300  7.076543  5.881271  30.217483   5.758598   \n",
       "4  82.703125  38.007474  0.887824  2.544944  1.641304  13.158511  11.093668   \n",
       "\n",
       "           SC  \n",
       "0   23.675354  \n",
       "1   79.950130  \n",
       "2   57.212347  \n",
       "3   33.909779  \n",
       "4  155.044660  "
      ]
     },
     "execution_count": 39,
     "metadata": {},
     "output_type": "execute_result"
    }
   ],
   "source": [
    "df_norm = df.drop(columns=[\"TARGET\"])\n",
    "df_norm.head()"
   ]
  },
  {
   "cell_type": "code",
   "execution_count": 45,
   "id": "136a8288",
   "metadata": {},
   "outputs": [
    {
     "data": {
      "text/plain": [
       "<bound method NDFrame.to_excel of           MIP     STDIP      EKIP       SIP        MC      STDC       EKC  \\\n",
       "0    0.473752  0.098536  0.635829  0.557278  0.043784  0.321577  0.172704   \n",
       "1    0.907810  0.124678  0.247198  0.277323  0.012861  0.151203  0.286092   \n",
       "2    0.917414  0.129466  0.201190  0.251792  0.018300  0.126406  0.230215   \n",
       "3    0.234315  0.164689  0.618113  0.490119  0.031822  0.250676  0.197861   \n",
       "4    0.980154  0.177074  0.197859  0.201709  0.007694  0.062862  0.352181   \n",
       "..        ...       ...       ...       ...       ...       ...       ...   \n",
       "197  0.966709  0.175708  0.030583  0.188281  0.002517  0.058655  0.545449   \n",
       "198  0.978233  0.091261  0.242379  0.305522  0.012723  0.104883  0.275542   \n",
       "199  0.306658  0.191598  0.411638  0.342300  0.029200  0.241091  0.199883   \n",
       "200  0.942382  0.297382  0.134639  0.103030  0.011814  0.101638  0.308768   \n",
       "201  0.990397  0.195950  0.086799  0.167118  0.009221  0.068242  0.322768   \n",
       "\n",
       "           SC  \n",
       "0    0.022327  \n",
       "1    0.071597  \n",
       "2    0.051689  \n",
       "3    0.031288  \n",
       "4    0.137343  \n",
       "..        ...  \n",
       "197  0.281612  \n",
       "198  0.074567  \n",
       "199  0.031824  \n",
       "200  0.094685  \n",
       "201  0.116360  \n",
       "\n",
       "[202 rows x 8 columns]>"
      ]
     },
     "execution_count": 45,
     "metadata": {},
     "output_type": "execute_result"
    }
   ],
   "source": [
    "scaler = MinMaxScaler()\n",
    "names = df_norm.columns\n",
    "d = scaler.fit_transform(df_norm)\n",
    "scaled_df = pd.DataFrame(d, columns=names)"
   ]
  },
  {
   "cell_type": "code",
   "execution_count": 54,
   "id": "d2757a7f",
   "metadata": {},
   "outputs": [
    {
     "data": {
      "text/plain": [
       "0.6145079296662063"
      ]
     },
     "execution_count": 54,
     "metadata": {},
     "output_type": "execute_result"
    }
   ],
   "source": [
    "scaled_df[\"MIP\"].mean()"
   ]
  },
  {
   "cell_type": "code",
   "execution_count": 60,
   "id": "61162ace",
   "metadata": {},
   "outputs": [],
   "source": [
    "writer = pd.ExcelWriter('output.xlsx')\n",
    "scaled_df.to_excel(writer)\n",
    "writer.close()"
   ]
  }
 ],
 "metadata": {
  "kernelspec": {
   "display_name": "Python 3",
   "language": "python",
   "name": "python3"
  },
  "language_info": {
   "codemirror_mode": {
    "name": "ipython",
    "version": 3
   },
   "file_extension": ".py",
   "mimetype": "text/x-python",
   "name": "python",
   "nbconvert_exporter": "python",
   "pygments_lexer": "ipython3",
   "version": "3.8.5"
  }
 },
 "nbformat": 4,
 "nbformat_minor": 5
}
