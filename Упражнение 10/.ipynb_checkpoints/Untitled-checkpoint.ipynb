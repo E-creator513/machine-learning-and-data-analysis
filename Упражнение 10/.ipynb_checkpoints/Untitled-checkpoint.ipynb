{
 "cells": [
  {
   "cell_type": "markdown",
   "id": "8c553c0c",
   "metadata": {},
   "source": [
    "## Упражнение 10"
   ]
  },
  {
   "cell_type": "code",
   "execution_count": null,
   "id": "e0a57bd0",
   "metadata": {},
   "outputs": [],
   "source": [
    "!pip install --upgrade pip\n",
    "!pip install imutils\n",
    "!pip install opencv-python\n",
    "!pip install --upgrade scikit-learn==0.23.0"
   ]
  },
  {
   "cell_type": "code",
   "execution_count": 1,
   "id": "6c68828f",
   "metadata": {},
   "outputs": [],
   "source": [
    "from IPython.display import Image\n",
    "from imutils import paths\n",
    "import numpy as np\n",
    "import cv2\n",
    "import os\n",
    "from sklearn.ensemble import BaggingClassifier\n",
    "from sklearn.tree import DecisionTreeClassifier\n",
    "from sklearn.svm import LinearSVC\n",
    "from sklearn.ensemble import RandomForestClassifier\n",
    "from sklearn.linear_model import LogisticRegression\n",
    "from sklearn.ensemble import StackingClassifier"
   ]
  },
  {
   "cell_type": "code",
   "execution_count": 2,
   "id": "2bbd85d3",
   "metadata": {},
   "outputs": [],
   "source": [
    "def extract_histogram(image, bins=(8, 8, 8)):\n",
    "    hist = cv2.calcHist([image], [0, 1, 2], None, bins, [0, 256, 0, 256, 0, 256])\n",
    "    cv2.normalize(hist, hist)\n",
    "    return hist.flatten()"
   ]
  },
  {
   "cell_type": "code",
   "execution_count": 3,
   "id": "bcbc6281",
   "metadata": {},
   "outputs": [],
   "source": [
    "imagePaths = sorted(list(paths.list_images('train')))\n",
    "trainData = []\n",
    "labels = []\n",
    "\n",
    "for (i, imagePath) in enumerate(imagePaths):\n",
    "    image = cv2.imread(imagePath, 1)\n",
    "    label = imagePath.split(os.path.sep)[-1].split(\".\")[0]\n",
    "    hist = extract_histogram(image)\n",
    "    trainData.append(hist)\n",
    "    labels.append(label)\n",
    "    \n",
    "Y = [1 if x == 'cat' else 0 for x in labels]"
   ]
  },
  {
   "cell_type": "code",
   "execution_count": 4,
   "id": "8cca1db7",
   "metadata": {},
   "outputs": [
    {
     "name": "stdout",
     "output_type": "stream",
     "text": [
      "1\n"
     ]
    },
    {
     "data": {
      "image/jpeg": "[encoded data removed]",
      "text/plain": [
       "<IPython.core.display.Image object>"
      ]
     },
     "execution_count": 4,
     "metadata": {},
     "output_type": "execute_result"
    }
   ],
   "source": [
    "print(Y[0])\n",
    "Image(filename=imagePaths[0])"
   ]
  },
  {
   "cell_type": "markdown",
   "id": "e1695857",
   "metadata": {},
   "source": [
    "**Бэггинг деревьев принятия решений**  \n",
    "Писать значения, которые у вас в задании"
   ]
  },
  {
   "cell_type": "code",
   "execution_count": 5,
   "id": "3e2739d2",
   "metadata": {},
   "outputs": [
    {
     "data": {
      "text/plain": [
       "BaggingClassifier(base_estimator=DecisionTreeClassifier(criterion='entropy',\n",
       "                                                        max_leaf_nodes=20,\n",
       "                                                        min_samples_leaf=10,\n",
       "                                                        random_state=92),\n",
       "                  n_estimators=20, random_state=92)"
      ]
     },
     "execution_count": 5,
     "metadata": {},
     "output_type": "execute_result"
    }
   ],
   "source": [
    "tree = DecisionTreeClassifier(criterion='entropy', #критерий разделения\n",
    "                              min_samples_leaf=10, #минимальное число объектов в листе\n",
    "                              max_leaf_nodes=20, #максимальное число листьев\n",
    "                              random_state=92)\n",
    "bagging = BaggingClassifier(tree, #базовый алгоритм\n",
    "                            n_estimators=20, #количество деревьев\n",
    "                            random_state=92)\n",
    "bagging.fit(trainData, Y)"
   ]
  },
  {
   "cell_type": "markdown",
   "id": "95c08c12",
   "metadata": {},
   "source": [
    "**Классификатор с мягким зазором и параметрами**  \n",
    "Писать значения, указаные в задании"
   ]
  },
  {
   "cell_type": "code",
   "execution_count": 6,
   "id": "5bf4edd6",
   "metadata": {},
   "outputs": [
    {
     "data": {
      "text/plain": [
       "LinearSVC(C=1.92, random_state=92)"
      ]
     },
     "execution_count": 6,
     "metadata": {},
     "output_type": "execute_result"
    }
   ],
   "source": [
    "svm = LinearSVC(random_state = 92, C = 1.92)\n",
    "svm.fit(trainData, Y)"
   ]
  },
  {
   "cell_type": "markdown",
   "id": "3d32bae4",
   "metadata": {},
   "source": [
    "**Случайный лес с параметрами**  \n",
    "Писать значения, указаные в задании"
   ]
  },
  {
   "cell_type": "code",
   "execution_count": 7,
   "id": "bcd5721d",
   "metadata": {},
   "outputs": [
    {
     "data": {
      "text/plain": [
       "RandomForestClassifier(criterion='entropy', max_leaf_nodes=20,\n",
       "                       min_samples_leaf=10, n_estimators=20, random_state=92)"
      ]
     },
     "execution_count": 7,
     "metadata": {},
     "output_type": "execute_result"
    }
   ],
   "source": [
    "forest = RandomForestClassifier(n_estimators=20, #количество деревьев\n",
    "                             criterion='entropy', #критерий разделения\n",
    "                              min_samples_leaf=10, #минимальное число объектов в листе\n",
    "                              max_leaf_nodes=20, #максимальное число листьев\n",
    "                              random_state=92)\n",
    "forest.fit(trainData, Y)"
   ]
  },
  {
   "cell_type": "markdown",
   "id": "dd44d06c",
   "metadata": {},
   "source": [
    "**Метаалгоритм - логистическая регрессия**  "
   ]
  },
  {
   "cell_type": "code",
   "execution_count": 8,
   "id": "82ad0a97",
   "metadata": {},
   "outputs": [],
   "source": [
    "lr = LogisticRegression(solver='lbfgs', random_state=92)"
   ]
  },
  {
   "cell_type": "code",
   "execution_count": 9,
   "id": "24ab0d18",
   "metadata": {},
   "outputs": [
    {
     "data": {
      "text/plain": [
       "StackingClassifier(cv=2,\n",
       "                   estimators=[('SVM', LinearSVC(C=1.92, random_state=92)),\n",
       "                               ('Bagging DT',\n",
       "                                BaggingClassifier(base_estimator=DecisionTreeClassifier(criterion='entropy',\n",
       "                                                                                        max_leaf_nodes=20,\n",
       "                                                                                        min_samples_leaf=10,\n",
       "                                                                                        random_state=92),\n",
       "                                                  n_estimators=20,\n",
       "                                                  random_state=92)),\n",
       "                               ('DecisionForest',\n",
       "                                RandomForestClassifier(criterion='entropy',\n",
       "                                                       max_leaf_nodes=20,\n",
       "                                                       min_samples_leaf=10,\n",
       "                                                       n_estimators=20,\n",
       "                                                       random_state=92))],\n",
       "                   final_estimator=LogisticRegression(random_state=92))"
      ]
     },
     "execution_count": 9,
     "metadata": {},
     "output_type": "execute_result"
    }
   ],
   "source": [
    "base_estimators = [('SVM', svm), ('Bagging DT', bagging), ('DecisionForest', forest)]\n",
    "sclf = StackingClassifier(estimators=base_estimators, final_estimator=lr, cv=2) # здесь CV, изменить\n",
    "sclf.fit(trainData, Y)"
   ]
  },
  {
   "cell_type": "markdown",
   "id": "c57a314b",
   "metadata": {},
   "source": [
    "**Первый ответ**  \n",
    "Accuracy"
   ]
  },
  {
   "cell_type": "code",
   "execution_count": 10,
   "id": "e8fc935a",
   "metadata": {},
   "outputs": [
    {
     "data": {
      "text/plain": [
       "0.849"
      ]
     },
     "execution_count": 10,
     "metadata": {},
     "output_type": "execute_result"
    }
   ],
   "source": [
    "sclf.score(trainData, Y)"
   ]
  },
  {
   "cell_type": "markdown",
   "id": "d93d9383",
   "metadata": {},
   "source": [
    "**Ответы 2-5**  \n",
    "Вставлять название файлов"
   ]
  },
  {
   "cell_type": "code",
   "execution_count": 11,
   "id": "5b508c56",
   "metadata": {},
   "outputs": [
    {
     "data": {
      "image/jpeg": "[encoded data removed]",
      "text/plain": [
       "<IPython.core.display.Image object>"
      ]
     },
     "execution_count": 11,
     "metadata": {},
     "output_type": "execute_result"
    }
   ],
   "source": [
    "singleImage = cv2.imread('test/dog.1019.jpg') #вставлять сюда\n",
    "histt = extract_histogram(singleImage)\n",
    "histt2 = histt.reshape(1, -1)\n",
    "prediction = sclf.predict(histt2)\n",
    "Image(filename='test/dog.1019.jpg') #вставлять сюда"
   ]
  },
  {
   "cell_type": "code",
   "execution_count": 12,
   "id": "58ca8a26",
   "metadata": {},
   "outputs": [
    {
     "data": {
      "text/plain": [
       "array([0])"
      ]
     },
     "execution_count": 12,
     "metadata": {},
     "output_type": "execute_result"
    }
   ],
   "source": [
    "prediction"
   ]
  },
  {
   "cell_type": "markdown",
   "id": "bab60e20",
   "metadata": {},
   "source": [
    "Класс 0 dog это нулевой элемент  \n",
    "Класс 1 cat это первый элемент"
   ]
  },
  {
   "cell_type": "code",
   "execution_count": 13,
   "id": "94322176",
   "metadata": {},
   "outputs": [
    {
     "data": {
      "text/plain": [
       "array([[0.72907738, 0.27092262]])"
      ]
     },
     "execution_count": 13,
     "metadata": {},
     "output_type": "execute_result"
    }
   ],
   "source": [
    "sclf.predict_proba(histt2)"
   ]
  }
 ],
 "metadata": {
  "kernelspec": {
   "display_name": "Python 3",
   "language": "python",
   "name": "python3"
  },
  "language_info": {
   "codemirror_mode": {
    "name": "ipython",
    "version": 3
   },
   "file_extension": ".py",
   "mimetype": "text/x-python",
   "name": "python",
   "nbconvert_exporter": "python",
   "pygments_lexer": "ipython3",
   "version": "3.8.5"
  }
 },
 "nbformat": 4,
 "nbformat_minor": 5
}
